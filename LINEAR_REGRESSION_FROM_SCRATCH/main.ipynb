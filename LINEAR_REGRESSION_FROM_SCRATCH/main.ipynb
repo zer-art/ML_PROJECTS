{
 "cells": [
  {
   "cell_type": "markdown",
   "metadata": {},
   "source": [
    "## **Linear Regression From Scratch**\n",
    "\n",
    "The formula for simple linear regression, which models the relationship between a dependent variable (y) and a single independent variable (x), is:\n",
    "\n",
    "**y = mx + b**\n",
    "\n",
    "Where:\n",
    "\n",
    "* **y** is the predicted value of the dependent variable.\n",
    "* **x** is the independent variable.\n",
    "* **m** is the slope of the line, representing the change in y for a unit change in x.\n",
    "* **b** is the y-intercept, representing the value of y when x is 0.\n"
   ]
  },
  {
   "cell_type": "code",
   "execution_count": null,
   "metadata": {},
   "outputs": [],
   "source": [
    "# importing liberaries \n",
    "import numpy as np\n",
    "import pandas as pd \n",
    "import matplotlib.pyplot as plt "
   ]
  },
  {
   "cell_type": "markdown",
   "metadata": {},
   "source": [
    "**3. Gradient Descent Algorithm:**\n",
    "\n",
    "The goal is to find the values of the parameters (m and b for simple linear regression, or b₀, b₁, ..., bₚ for multiple linear regression) that minimize the MSE. Gradient descent achieves this by iteratively adjusting the parameters in the direction of the negative gradient of the MSE.\n",
    "\n",
    "**4. Calculating the Gradients:**\n",
    "\n",
    "To update the parameters, we need to calculate the partial derivatives of the MSE with respect to each parameter.\n",
    "\n",
    "* **Simple Linear Regression:**\n",
    "\n",
    "    * ∂(MSE)/∂m = (-2/n) * Σ(xᵢ * (yᵢ - ŷᵢ))\n",
    "    * ∂(MSE)/∂b = (-2/n) * Σ(yᵢ - ŷᵢ)\n",
    "\n"
   ]
  },
  {
   "cell_type": "markdown",
   "metadata": {},
   "source": [
    "**5. Updating the Parameters:**\n",
    "\n",
    "The parameters are updated using the following formulas:\n",
    "\n",
    "* **Simple Linear Regression:**\n",
    "\n",
    "    * m := m - α * ∂(MSE)/∂m\n",
    "    * b := b - α * ∂(MSE)/∂b\n"
   ]
  },
  {
   "cell_type": "markdown",
   "metadata": {},
   "source": [
    "# linear regression algorithum "
   ]
  },
  {
   "cell_type": "code",
   "execution_count": 3,
   "metadata": {},
   "outputs": [],
   "source": [
    "class LinearRegression:\n",
    "    def __init__(self , learning_rate=0.001, num_iterations=1000):\n",
    "        self.learning_rate = learning_rate\n",
    "        self.num_iterations = num_iterations\n",
    "        self.weights = None\n",
    "        self.bias = None\n",
    "    \n",
    "    def fit(self, X, y): \n",
    "        n_samples, n_features = X.shape\n",
    "        self.weights = np.zeros(n_features)\n",
    "        self.bias = 0\n",
    "\n",
    "        for i in range(self.num_iterations):  \n",
    "\n",
    "            # initial y prediction\n",
    "            y_pred = np.dot(X, self.weights) + self.bias\n",
    "\n",
    "            # calulate derivatives for gradient descent\n",
    "            weight_derivatives = -(2/n_samples) * np.dot(X.T, (y - y_pred))\n",
    "            bias_derivative = -(2/n_samples) * np.sum(y - y_pred)\n",
    "\n",
    "            # updating weights and bias continuously\n",
    "            self.weights -= self.learning_rate * weight_derivatives\n",
    "            self.bias -= self.learning_rate * bias_derivative\n",
    "\n",
    "\n",
    "    def predict(self, X): \n",
    "        return np.dot(X, self.weights) + self.bias  "
   ]
  },
  {
   "cell_type": "markdown",
   "metadata": {},
   "source": [
    "**Mean Squared Error (MSE)**\n",
    "\n",
    "The formula for Mean Squared Error (MSE) is:\n",
    "\n",
    "$$\n",
    "MSE = \\frac{1}{n} \\sum_{i=1}^{n} (Y_i - \\hat{Y}_i)^2\n",
    "$$\n",
    "\n",
    "Where:\n",
    "\n",
    "* $n$ = number of data points\n",
    "* $Y_i$ = actual (observed) value of the dependent variable for the i-th data point\n",
    "* $\\hat{Y}_i$ = predicted value of the dependent variable for the i-th data point\n",
    "* $\\sum_{i=1}^{n}$ = summation from i=1 to n"
   ]
  },
  {
   "cell_type": "code",
   "execution_count": 13,
   "metadata": {},
   "outputs": [
    {
     "name": "stdout",
     "output_type": "stream",
     "text": []
    },
    {
     "data": {},
     "metadata": {},
     "output_type": "display_data"
    }
   ],
   "source": [
    "# Generate data\n",
    "X, y = datasets.make_regression(n_samples=100, n_features=1, noise=20, random_state=4)\n",
    "X_train, X_test, y_train, y_test = train_test_split(X, y, test_size=0.2, random_state=1234)\n",
    "\n",
    "# Create subplots\n",
    "fig, axes = plt.subplots(1, 2, figsize=(10, 4))  # 1 row, 2 columns\n",
    "\n",
    "# First subplot: Original data scatter plot\n",
    "axes[0].scatter(X[:, 0], y, color=\"b\", marker=\"o\", s=30, alpha=0.7, label=\"Data Points\")\n",
    "axes[0].set_title(\"Generated Regression Data\")\n",
    "axes[0].set_xlabel(\"Feature (X)\")\n",
    "axes[0].set_ylabel(\"Target (y)\")\n",
    "axes[0].legend()\n",
    "axes[0].grid(True, linestyle='--', alpha=0.6)\n",
    "\n",
    "# Train the model\n",
    "reg = LinearRegression(learning_rate=0.01, num_iterations=1500)\n",
    "reg.fit(X_train, y_train)\n",
    "predictions = reg.predict(X_test)\n",
    "\n",
    "# Calculate MSE\n",
    "def mse(y_test, predictions):\n",
    "    return np.mean((y_test - predictions) ** 2)\n",
    "\n",
    "mse_value = mse(y_test, predictions)\n",
    "print(f\"Mean Squared Error: {mse_value:.2f}\")\n",
    "\n",
    "# Second subplot: Prediction line and scatter plot\n",
    "y_pred_line = reg.predict(X)\n",
    "cmap = plt.get_cmap(\"viridis\")\n",
    "axes[1].scatter(X_train, y_train, color=cmap(0.9), s=30, alpha=0.7, label=\"Train Data\")\n",
    "axes[1].scatter(X_test, y_test, color=cmap(0.5), s=30, alpha=0.7, label=\"Test Data\")\n",
    "axes[1].plot(X, y_pred_line, color=\"red\", linewidth=2, label=\"Linear Regression Prediction\")\n",
    "axes[1].set_title(\"Linear Regression Model\")\n",
    "axes[1].set_xlabel(\"Feature (X)\")\n",
    "axes[1].set_ylabel(\"Target (y)\")\n",
    "axes[1].legend()\n",
    "axes[1].grid(True, linestyle='--', alpha=0.6)\n",
    "\n",
    "plt.tight_layout() # Improves subplot spacing\n",
    "plt.show()"
   ]
  }
 ],
 "metadata": {
  "kernelspec": {
   "display_name": "Python 3",
   "language": "python",
   "name": "python3"
  },
  "language_info": {
   "codemirror_mode": {
    "name": "ipython",
    "version": 3
   },
   "file_extension": ".py",
   "mimetype": "text/x-python",
   "name": "python",
   "nbconvert_exporter": "python",
   "pygments_lexer": "ipython3",
   "version": "3.13.2"
  }
 },
 "nbformat": 4,
 "nbformat_minor": 2
}
